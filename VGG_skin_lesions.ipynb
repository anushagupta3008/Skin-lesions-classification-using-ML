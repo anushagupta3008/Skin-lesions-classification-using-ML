{
  "nbformat": 4,
  "nbformat_minor": 0,
  "metadata": {
    "colab": {
      "name": "VGG_skin_lesions.ipynb",
      "provenance": [],
      "authorship_tag": "ABX9TyO+u+arDhbCUhlFrmLIECwI",
      "include_colab_link": true
    },
    "kernelspec": {
      "name": "python3",
      "display_name": "Python 3"
    },
    "accelerator": "GPU"
  },
  "cells": [
    {
      "cell_type": "markdown",
      "metadata": {
        "id": "view-in-github",
        "colab_type": "text"
      },
      "source": [
        "<a href=\"https://colab.research.google.com/github/deveshsangwan/Skin-lesions-classification/blob/main/VGG_skin_lesions.ipynb\" target=\"_parent\"><img src=\"https://colab.research.google.com/assets/colab-badge.svg\" alt=\"Open In Colab\"/></a>"
      ]
    },
    {
      "cell_type": "code",
      "metadata": {
        "id": "zQVbFLe3Lv_M"
      },
      "source": [
        "import os\n",
        "from pydrive.auth import GoogleAuth\n",
        "from pydrive.drive import GoogleDrive\n",
        "from google.colab import auth\n",
        "from oauth2client.client import GoogleCredentials"
      ],
      "execution_count": null,
      "outputs": []
    },
    {
      "cell_type": "code",
      "metadata": {
        "id": "r-zNMgRA6JYf"
      },
      "source": [
        "auth.authenticate_user()\n",
        "gauth = GoogleAuth()\n",
        "gauth.credentials = GoogleCredentials.get_application_default()\n",
        "drive = GoogleDrive(gauth)"
      ],
      "execution_count": null,
      "outputs": []
    },
    {
      "cell_type": "code",
      "metadata": {
        "id": "T1YKPp6A6Kyr"
      },
      "source": [
        "import os\n",
        "from glob import glob\n",
        "from PIL import Image\n",
        "\n",
        "import pandas as pd\n",
        "import numpy as np\n",
        "from sklearn.model_selection import train_test_split\n",
        "from tensorflow.keras.utils import to_categorical # convert to one-hot-encoding\n",
        "\n",
        "from tensorflow.keras.preprocessing.image import ImageDataGenerator\n",
        "from tensorflow.keras import layers\n",
        "from tensorflow.keras import Model\n",
        "from tensorflow.keras.applications.vgg19 import VGG19\n",
        "from tensorflow.keras.optimizers import Adam\n",
        "from tensorflow.keras.callbacks import ReduceLROnPlateau, EarlyStopping\n",
        "from tensorflow.keras import backend as K\n",
        "\n",
        "%matplotlib inline\n",
        "import matplotlib.pyplot as plt"
      ],
      "execution_count": null,
      "outputs": []
    },
    {
      "cell_type": "code",
      "metadata": {
        "id": "zYlYFKF46MNY",
        "outputId": "636efcc2-075d-4f43-d080-7e196c47da8e",
        "colab": {
          "base_uri": "https://localhost:8080/",
          "height": 35
        }
      },
      "source": [
        "from google.colab import drive\n",
        "drive.mount('/content/drive')"
      ],
      "execution_count": null,
      "outputs": [
        {
          "output_type": "stream",
          "text": [
            "Drive already mounted at /content/drive; to attempt to forcibly remount, call drive.mount(\"/content/drive\", force_remount=True).\n"
          ],
          "name": "stdout"
        }
      ]
    },
    {
      "cell_type": "code",
      "metadata": {
        "id": "EmK35N9e27Qu"
      },
      "source": [
        "y_train = np.load(\"/content/drive/My Drive/Datasets/Skin_npy/y_train.npy\")"
      ],
      "execution_count": null,
      "outputs": []
    },
    {
      "cell_type": "code",
      "metadata": {
        "id": "IjHPwOaZ1A8X"
      },
      "source": [
        "X_train = np.load(\"/content/drive/My Drive/Datasets/Skin_npy/x_train.npy\")"
      ],
      "execution_count": null,
      "outputs": []
    },
    {
      "cell_type": "code",
      "metadata": {
        "id": "S-jVIN2K3enb"
      },
      "source": [
        "X_val = np.load(\"/content/drive/My Drive/Datasets/Skin_npy/x_validate.npy\")"
      ],
      "execution_count": null,
      "outputs": []
    },
    {
      "cell_type": "code",
      "metadata": {
        "id": "WdB-cl6W3nl2"
      },
      "source": [
        "y_val = np.load(\"/content/drive/My Drive/Datasets/Skin_npy/y_validate.npy\")"
      ],
      "execution_count": null,
      "outputs": []
    },
    {
      "cell_type": "code",
      "metadata": {
        "id": "UlN931Yg3vUh",
        "outputId": "fb73245c-3817-4880-d8bb-6a7e69cec798",
        "colab": {
          "base_uri": "https://localhost:8080/",
          "height": 35
        }
      },
      "source": [
        "X_train.shape, X_val.shape"
      ],
      "execution_count": null,
      "outputs": [
        {
          "output_type": "execute_result",
          "data": {
            "text/plain": [
              "((7210, 192, 256, 3), (802, 192, 256, 3))"
            ]
          },
          "metadata": {
            "tags": []
          },
          "execution_count": 9
        }
      ]
    },
    {
      "cell_type": "code",
      "metadata": {
        "id": "VMKYGSdY3zwF",
        "outputId": "80bcdd87-6806-4931-ced7-30419b71b5d7",
        "colab": {
          "base_uri": "https://localhost:8080/",
          "height": 35
        }
      },
      "source": [
        "y_train.shape, y_val.shape"
      ],
      "execution_count": null,
      "outputs": [
        {
          "output_type": "execute_result",
          "data": {
            "text/plain": [
              "((7210, 7), (802, 7))"
            ]
          },
          "metadata": {
            "tags": []
          },
          "execution_count": 10
        }
      ]
    },
    {
      "cell_type": "code",
      "metadata": {
        "id": "zziPRxl_4QQn",
        "outputId": "c45f5ec3-069e-4c0a-d8fd-6209ee7dbf68",
        "colab": {
          "base_uri": "https://localhost:8080/",
          "height": 53
        }
      },
      "source": [
        "pre_trained_model = VGG19(input_shape=(192, 256, 3), include_top=False, weights=\"imagenet\")"
      ],
      "execution_count": null,
      "outputs": [
        {
          "output_type": "stream",
          "text": [
            "Downloading data from https://storage.googleapis.com/tensorflow/keras-applications/vgg19/vgg19_weights_tf_dim_ordering_tf_kernels_notop.h5\n",
            "80142336/80134624 [==============================] - 1s 0us/step\n"
          ],
          "name": "stdout"
        }
      ]
    },
    {
      "cell_type": "code",
      "metadata": {
        "id": "7vWG_UfB4cIG",
        "outputId": "d9d02c21-9f8f-46b1-fb73-adc8dd51fe20",
        "colab": {
          "base_uri": "https://localhost:8080/",
          "height": 431
        }
      },
      "source": [
        "for layer in pre_trained_model.layers:\n",
        "    print(layer.name)\n",
        "    layer.trainable = False\n",
        "    \n",
        "print(len(pre_trained_model.layers))"
      ],
      "execution_count": null,
      "outputs": [
        {
          "output_type": "stream",
          "text": [
            "input_1\n",
            "block1_conv1\n",
            "block1_conv2\n",
            "block1_pool\n",
            "block2_conv1\n",
            "block2_conv2\n",
            "block2_pool\n",
            "block3_conv1\n",
            "block3_conv2\n",
            "block3_conv3\n",
            "block3_conv4\n",
            "block3_pool\n",
            "block4_conv1\n",
            "block4_conv2\n",
            "block4_conv3\n",
            "block4_conv4\n",
            "block4_pool\n",
            "block5_conv1\n",
            "block5_conv2\n",
            "block5_conv3\n",
            "block5_conv4\n",
            "block5_pool\n",
            "22\n"
          ],
          "name": "stdout"
        }
      ]
    },
    {
      "cell_type": "code",
      "metadata": {
        "id": "RkUG7SfH4jN0",
        "outputId": "9f5c0cbf-1ed6-4759-f0c7-13ab6e6e7944",
        "colab": {
          "base_uri": "https://localhost:8080/",
          "height": 35
        }
      },
      "source": [
        "last_layer = pre_trained_model.get_layer('block5_pool')\n",
        "print('last layer output shape:', last_layer.output_shape)\n",
        "last_output = last_layer.output"
      ],
      "execution_count": null,
      "outputs": [
        {
          "output_type": "stream",
          "text": [
            "last layer output shape: (None, 6, 8, 512)\n"
          ],
          "name": "stdout"
        }
      ]
    },
    {
      "cell_type": "code",
      "metadata": {
        "id": "Ktpcpv0g4qFt"
      },
      "source": [
        "# Flatten the output layer to 1 dimension\n",
        "x = layers.GlobalMaxPooling2D()(last_output)\n",
        "# Add a fully connected layer with 512 hidden units and ReLU activation\n",
        "x = layers.Dense(512, activation='relu')(x)\n",
        "# Add a dropout rate of 0.5\n",
        "x = layers.Dropout(0.5)(x)\n",
        "# Add a final sigmoid layer for classification\n",
        "x = layers.Dense(7, activation='softmax')(x)\n",
        "\n",
        "# Configure and compile the model\n",
        "\n",
        "model = Model(pre_trained_model.input, x)\n",
        "optimizer = Adam(lr=0.0001, beta_1=0.9, beta_2=0.999, epsilon=None, decay=0.0, amsgrad=True)\n",
        "model.compile(loss='categorical_crossentropy',\n",
        "              optimizer=optimizer,\n",
        "              metrics=['accuracy'])"
      ],
      "execution_count": null,
      "outputs": []
    },
    {
      "cell_type": "code",
      "metadata": {
        "id": "WuY2oElT45-s"
      },
      "source": [
        "train_datagen = ImageDataGenerator(\n",
        "        featurewise_center=False,  # set input mean to 0 over the dataset\n",
        "        samplewise_center=False,  # set each sample mean to 0\n",
        "        featurewise_std_normalization=False,  # divide inputs by std of the dataset\n",
        "        samplewise_std_normalization=False,  # divide each input by its std\n",
        "        zca_whitening=False,  # apply ZCA whitening\n",
        "        rotation_range=90,  # randomly rotate images in the range (degrees, 0 to 180)\n",
        "        zoom_range = 0.1, # Randomly zoom image \n",
        "        width_shift_range=0.1,  # randomly shift images horizontally (fraction of total width)\n",
        "        height_shift_range=0.1,  # randomly shift images vertically (fraction of total height)\n",
        "        horizontal_flip=True,  # randomly flip images\n",
        "        vertical_flip=True,  # randomly flip images\n",
        "        shear_range = 10)\n",
        "\n",
        "train_datagen.fit(X_train)\n",
        "\n",
        "val_datagen = ImageDataGenerator()\n",
        "val_datagen.fit(X_val)"
      ],
      "execution_count": null,
      "outputs": []
    },
    {
      "cell_type": "code",
      "metadata": {
        "id": "IBWK621D5TK1"
      },
      "source": [
        "for layer in pre_trained_model.layers:\n",
        "    layer.trainable = True"
      ],
      "execution_count": null,
      "outputs": []
    },
    {
      "cell_type": "code",
      "metadata": {
        "id": "dRXzeiEF5nk3"
      },
      "source": [
        "optimizer = Adam(lr=0.0001, beta_1=0.9, beta_2=0.999, epsilon=None, decay=0.0, amsgrad=False)\n",
        "model.compile(loss='categorical_crossentropy',\n",
        "              optimizer=optimizer,\n",
        "              metrics=['acc'])"
      ],
      "execution_count": null,
      "outputs": []
    },
    {
      "cell_type": "code",
      "metadata": {
        "id": "TlAVa1em5qiN"
      },
      "source": [
        "learning_rate_reduction = ReduceLROnPlateau(monitor='val_acc', patience=3, verbose=1, factor=0.5, \n",
        "                                            min_lr=0.000001, cooldown=2)"
      ],
      "execution_count": null,
      "outputs": []
    },
    {
      "cell_type": "code",
      "metadata": {
        "id": "up-S_ilj5vO3",
        "outputId": "8447dea5-9dd2-479a-e604-77af58accb48",
        "colab": {
          "base_uri": "https://localhost:8080/",
          "height": 1000
        }
      },
      "source": [
        "model.summary()"
      ],
      "execution_count": null,
      "outputs": [
        {
          "output_type": "stream",
          "text": [
            "Model: \"model\"\n",
            "_________________________________________________________________\n",
            "Layer (type)                 Output Shape              Param #   \n",
            "=================================================================\n",
            "input_1 (InputLayer)         [(None, 192, 256, 3)]     0         \n",
            "_________________________________________________________________\n",
            "block1_conv1 (Conv2D)        (None, 192, 256, 64)      1792      \n",
            "_________________________________________________________________\n",
            "block1_conv2 (Conv2D)        (None, 192, 256, 64)      36928     \n",
            "_________________________________________________________________\n",
            "block1_pool (MaxPooling2D)   (None, 96, 128, 64)       0         \n",
            "_________________________________________________________________\n",
            "block2_conv1 (Conv2D)        (None, 96, 128, 128)      73856     \n",
            "_________________________________________________________________\n",
            "block2_conv2 (Conv2D)        (None, 96, 128, 128)      147584    \n",
            "_________________________________________________________________\n",
            "block2_pool (MaxPooling2D)   (None, 48, 64, 128)       0         \n",
            "_________________________________________________________________\n",
            "block3_conv1 (Conv2D)        (None, 48, 64, 256)       295168    \n",
            "_________________________________________________________________\n",
            "block3_conv2 (Conv2D)        (None, 48, 64, 256)       590080    \n",
            "_________________________________________________________________\n",
            "block3_conv3 (Conv2D)        (None, 48, 64, 256)       590080    \n",
            "_________________________________________________________________\n",
            "block3_conv4 (Conv2D)        (None, 48, 64, 256)       590080    \n",
            "_________________________________________________________________\n",
            "block3_pool (MaxPooling2D)   (None, 24, 32, 256)       0         \n",
            "_________________________________________________________________\n",
            "block4_conv1 (Conv2D)        (None, 24, 32, 512)       1180160   \n",
            "_________________________________________________________________\n",
            "block4_conv2 (Conv2D)        (None, 24, 32, 512)       2359808   \n",
            "_________________________________________________________________\n",
            "block4_conv3 (Conv2D)        (None, 24, 32, 512)       2359808   \n",
            "_________________________________________________________________\n",
            "block4_conv4 (Conv2D)        (None, 24, 32, 512)       2359808   \n",
            "_________________________________________________________________\n",
            "block4_pool (MaxPooling2D)   (None, 12, 16, 512)       0         \n",
            "_________________________________________________________________\n",
            "block5_conv1 (Conv2D)        (None, 12, 16, 512)       2359808   \n",
            "_________________________________________________________________\n",
            "block5_conv2 (Conv2D)        (None, 12, 16, 512)       2359808   \n",
            "_________________________________________________________________\n",
            "block5_conv3 (Conv2D)        (None, 12, 16, 512)       2359808   \n",
            "_________________________________________________________________\n",
            "block5_conv4 (Conv2D)        (None, 12, 16, 512)       2359808   \n",
            "_________________________________________________________________\n",
            "block5_pool (MaxPooling2D)   (None, 6, 8, 512)         0         \n",
            "_________________________________________________________________\n",
            "global_max_pooling2d (Global (None, 512)               0         \n",
            "_________________________________________________________________\n",
            "dense (Dense)                (None, 512)               262656    \n",
            "_________________________________________________________________\n",
            "dropout (Dropout)            (None, 512)               0         \n",
            "_________________________________________________________________\n",
            "dense_1 (Dense)              (None, 7)                 3591      \n",
            "=================================================================\n",
            "Total params: 20,290,631\n",
            "Trainable params: 20,290,631\n",
            "Non-trainable params: 0\n",
            "_________________________________________________________________\n"
          ],
          "name": "stdout"
        }
      ]
    },
    {
      "cell_type": "code",
      "metadata": {
        "id": "-o_SdmHC9qqt",
        "outputId": "15c7b377-6d15-4ad7-b542-c80081f0733b",
        "colab": {
          "base_uri": "https://localhost:8080/",
          "height": 1000
        }
      },
      "source": [
        "batch_size = 64\n",
        "epochs = 35\n",
        "history = model.fit_generator(train_datagen.flow(X_train,y_train, batch_size=batch_size),\n",
        "                              epochs = epochs, validation_data = val_datagen.flow(X_val, y_val),\n",
        "                              verbose = 1, steps_per_epoch=(X_train.shape[0] // batch_size),\n",
        "                              validation_steps=(X_val.shape[0] // batch_size),\n",
        "                              callbacks=[learning_rate_reduction])"
      ],
      "execution_count": null,
      "outputs": [
        {
          "output_type": "stream",
          "text": [
            "WARNING:tensorflow:From <ipython-input-20-b0e0df1b87c2>:7: Model.fit_generator (from tensorflow.python.keras.engine.training) is deprecated and will be removed in a future version.\n",
            "Instructions for updating:\n",
            "Please use Model.fit, which supports generators.\n",
            "Epoch 1/35\n",
            "112/112 [==============================] - 220s 2s/step - loss: 1.4967 - acc: 0.6339 - val_loss: 0.9478 - val_acc: 0.6719 - lr: 1.0000e-04\n",
            "Epoch 2/35\n",
            "112/112 [==============================] - 208s 2s/step - loss: 1.0225 - acc: 0.6537 - val_loss: 0.8645 - val_acc: 0.7161 - lr: 1.0000e-04\n",
            "Epoch 3/35\n",
            "112/112 [==============================] - 209s 2s/step - loss: 0.9761 - acc: 0.6689 - val_loss: 0.8454 - val_acc: 0.6823 - lr: 1.0000e-04\n",
            "Epoch 4/35\n",
            "112/112 [==============================] - 209s 2s/step - loss: 0.9080 - acc: 0.6766 - val_loss: 0.8298 - val_acc: 0.6979 - lr: 1.0000e-04\n",
            "Epoch 5/35\n",
            "112/112 [==============================] - 209s 2s/step - loss: 0.8615 - acc: 0.6861 - val_loss: 0.7169 - val_acc: 0.7214 - lr: 1.0000e-04\n",
            "Epoch 6/35\n",
            "112/112 [==============================] - 209s 2s/step - loss: 0.8397 - acc: 0.6903 - val_loss: 0.8384 - val_acc: 0.7057 - lr: 1.0000e-04\n",
            "Epoch 7/35\n",
            "112/112 [==============================] - 209s 2s/step - loss: 0.8214 - acc: 0.7031 - val_loss: 0.7440 - val_acc: 0.7344 - lr: 1.0000e-04\n",
            "Epoch 8/35\n",
            "112/112 [==============================] - 208s 2s/step - loss: 0.7968 - acc: 0.7081 - val_loss: 0.7227 - val_acc: 0.7370 - lr: 1.0000e-04\n",
            "Epoch 9/35\n",
            "112/112 [==============================] - 209s 2s/step - loss: 0.7803 - acc: 0.7155 - val_loss: 0.7362 - val_acc: 0.7396 - lr: 1.0000e-04\n",
            "Epoch 10/35\n",
            "112/112 [==============================] - 209s 2s/step - loss: 0.7747 - acc: 0.7143 - val_loss: 0.6924 - val_acc: 0.7370 - lr: 1.0000e-04\n",
            "Epoch 11/35\n",
            "112/112 [==============================] - 208s 2s/step - loss: 0.7637 - acc: 0.7214 - val_loss: 0.7865 - val_acc: 0.7109 - lr: 1.0000e-04\n",
            "Epoch 12/35\n",
            "112/112 [==============================] - ETA: 0s - loss: 0.7714 - acc: 0.7189\n",
            "Epoch 00012: ReduceLROnPlateau reducing learning rate to 4.999999873689376e-05.\n",
            "112/112 [==============================] - 208s 2s/step - loss: 0.7714 - acc: 0.7189 - val_loss: 0.7769 - val_acc: 0.7161 - lr: 1.0000e-04\n",
            "Epoch 13/35\n",
            "112/112 [==============================] - 209s 2s/step - loss: 0.7058 - acc: 0.7396 - val_loss: 0.6143 - val_acc: 0.7630 - lr: 5.0000e-05\n",
            "Epoch 14/35\n",
            "112/112 [==============================] - 209s 2s/step - loss: 0.6832 - acc: 0.7575 - val_loss: 0.6722 - val_acc: 0.7188 - lr: 5.0000e-05\n",
            "Epoch 15/35\n",
            "112/112 [==============================] - 209s 2s/step - loss: 0.6702 - acc: 0.7522 - val_loss: 0.6586 - val_acc: 0.7656 - lr: 5.0000e-05\n",
            "Epoch 16/35\n",
            "112/112 [==============================] - 209s 2s/step - loss: 0.6584 - acc: 0.7615 - val_loss: 0.6686 - val_acc: 0.7656 - lr: 5.0000e-05\n",
            "Epoch 17/35\n",
            "112/112 [==============================] - 209s 2s/step - loss: 0.6391 - acc: 0.7648 - val_loss: 0.6685 - val_acc: 0.7526 - lr: 5.0000e-05\n",
            "Epoch 18/35\n",
            "112/112 [==============================] - 209s 2s/step - loss: 0.6164 - acc: 0.7765 - val_loss: 0.5468 - val_acc: 0.7865 - lr: 5.0000e-05\n",
            "Epoch 19/35\n",
            "112/112 [==============================] - 209s 2s/step - loss: 0.6035 - acc: 0.7845 - val_loss: 0.6147 - val_acc: 0.7839 - lr: 5.0000e-05\n",
            "Epoch 20/35\n",
            "112/112 [==============================] - 209s 2s/step - loss: 0.6111 - acc: 0.7781 - val_loss: 0.5636 - val_acc: 0.7995 - lr: 5.0000e-05\n",
            "Epoch 21/35\n",
            "112/112 [==============================] - 209s 2s/step - loss: 0.5908 - acc: 0.7918 - val_loss: 0.5263 - val_acc: 0.8307 - lr: 5.0000e-05\n",
            "Epoch 22/35\n",
            "112/112 [==============================] - 209s 2s/step - loss: 0.5585 - acc: 0.8016 - val_loss: 0.6232 - val_acc: 0.7786 - lr: 5.0000e-05\n",
            "Epoch 23/35\n",
            "112/112 [==============================] - 209s 2s/step - loss: 0.5568 - acc: 0.8028 - val_loss: 0.5584 - val_acc: 0.8047 - lr: 5.0000e-05\n",
            "Epoch 24/35\n",
            "112/112 [==============================] - ETA: 0s - loss: 0.5421 - acc: 0.8048\n",
            "Epoch 00024: ReduceLROnPlateau reducing learning rate to 2.499999936844688e-05.\n",
            "112/112 [==============================] - 209s 2s/step - loss: 0.5421 - acc: 0.8048 - val_loss: 0.5664 - val_acc: 0.8047 - lr: 5.0000e-05\n",
            "Epoch 25/35\n",
            "112/112 [==============================] - 209s 2s/step - loss: 0.4864 - acc: 0.8265 - val_loss: 0.5589 - val_acc: 0.8099 - lr: 2.5000e-05\n",
            "Epoch 26/35\n",
            "112/112 [==============================] - 209s 2s/step - loss: 0.4732 - acc: 0.8317 - val_loss: 0.5743 - val_acc: 0.8151 - lr: 2.5000e-05\n",
            "Epoch 27/35\n",
            "112/112 [==============================] - 210s 2s/step - loss: 0.4625 - acc: 0.8317 - val_loss: 0.4844 - val_acc: 0.8229 - lr: 2.5000e-05\n",
            "Epoch 28/35\n",
            "112/112 [==============================] - ETA: 0s - loss: 0.4632 - acc: 0.8361\n",
            "Epoch 00028: ReduceLROnPlateau reducing learning rate to 1.249999968422344e-05.\n",
            "112/112 [==============================] - 209s 2s/step - loss: 0.4632 - acc: 0.8361 - val_loss: 0.5037 - val_acc: 0.8255 - lr: 2.5000e-05\n",
            "Epoch 29/35\n",
            "112/112 [==============================] - 209s 2s/step - loss: 0.4219 - acc: 0.8466 - val_loss: 0.5072 - val_acc: 0.8490 - lr: 1.2500e-05\n",
            "Epoch 30/35\n",
            "112/112 [==============================] - 209s 2s/step - loss: 0.4114 - acc: 0.8528 - val_loss: 0.4959 - val_acc: 0.8464 - lr: 1.2500e-05\n",
            "Epoch 31/35\n",
            "112/112 [==============================] - 209s 2s/step - loss: 0.4009 - acc: 0.8567 - val_loss: 0.5277 - val_acc: 0.8151 - lr: 1.2500e-05\n",
            "Epoch 32/35\n",
            "112/112 [==============================] - ETA: 0s - loss: 0.3991 - acc: 0.8570\n",
            "Epoch 00032: ReduceLROnPlateau reducing learning rate to 6.24999984211172e-06.\n",
            "112/112 [==============================] - 209s 2s/step - loss: 0.3991 - acc: 0.8570 - val_loss: 0.5298 - val_acc: 0.8307 - lr: 1.2500e-05\n",
            "Epoch 33/35\n",
            "112/112 [==============================] - 209s 2s/step - loss: 0.3751 - acc: 0.8637 - val_loss: 0.4735 - val_acc: 0.8333 - lr: 6.2500e-06\n",
            "Epoch 34/35\n",
            "112/112 [==============================] - 209s 2s/step - loss: 0.3684 - acc: 0.8676 - val_loss: 0.4809 - val_acc: 0.8516 - lr: 6.2500e-06\n",
            "Epoch 35/35\n",
            "112/112 [==============================] - 209s 2s/step - loss: 0.3617 - acc: 0.8693 - val_loss: 0.4922 - val_acc: 0.8438 - lr: 6.2500e-06\n"
          ],
          "name": "stdout"
        }
      ]
    },
    {
      "cell_type": "code",
      "metadata": {
        "id": "2gplTKEov90d",
        "outputId": "1f6e9e8d-3780-488f-a1d3-7f391c393192",
        "colab": {
          "base_uri": "https://localhost:8080/",
          "height": 53
        }
      },
      "source": [
        "loss_val, acc_val = model.evaluate(X_val, y_val, verbose=1)\n",
        "print(\"Validation: accuracy = %f  ;  loss_v = %f\" % (acc_val, loss_val))"
      ],
      "execution_count": null,
      "outputs": [
        {
          "output_type": "stream",
          "text": [
            "26/26 [==============================] - 9s 329ms/step - loss: 0.4986 - acc: 0.8354\n",
            "Validation: accuracy = 0.835411  ;  loss_v = 0.498586\n"
          ],
          "name": "stdout"
        }
      ]
    },
    {
      "cell_type": "code",
      "metadata": {
        "id": "wTd9gbZVwHHA"
      },
      "source": [
        "X_test = np.load(\"/content/drive/My Drive/Datasets/Skin_npy/x_test.npy\")"
      ],
      "execution_count": null,
      "outputs": []
    },
    {
      "cell_type": "code",
      "metadata": {
        "id": "k01CDQqYwQ7P"
      },
      "source": [
        "y_test = np.load(\"/content/drive/My Drive/Datasets/Skin_npy/y_test.npy\")"
      ],
      "execution_count": null,
      "outputs": []
    },
    {
      "cell_type": "code",
      "metadata": {
        "id": "ePURn6wAwVqu",
        "outputId": "37486997-6e5f-44b1-b1a5-edd5a6b0e316",
        "colab": {
          "base_uri": "https://localhost:8080/",
          "height": 53
        }
      },
      "source": [
        "loss_test, acc_test = model.evaluate(X_test, y_test, verbose=1)\n",
        "print(\"Test: accuracy = %f  ;  loss = %f\" % (acc_test, loss_test))"
      ],
      "execution_count": null,
      "outputs": [
        {
          "output_type": "stream",
          "text": [
            "63/63 [==============================] - 22s 349ms/step - loss: 0.5206 - acc: 0.8288\n",
            "Test: accuracy = 0.828757  ;  loss = 0.520644\n"
          ],
          "name": "stdout"
        }
      ]
    },
    {
      "cell_type": "code",
      "metadata": {
        "id": "wzL4kXubwX3R"
      },
      "source": [
        "model.save(\"/content/drive/My Drive/VGG19.h5\")"
      ],
      "execution_count": null,
      "outputs": []
    },
    {
      "cell_type": "code",
      "metadata": {
        "id": "5KBpet3Yml2p"
      },
      "source": [
        ""
      ],
      "execution_count": null,
      "outputs": []
    }
  ]
}